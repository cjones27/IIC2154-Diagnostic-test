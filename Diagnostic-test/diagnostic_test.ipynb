{
 "cells": [
  {
   "cell_type": "markdown",
   "id": "c36f886c",
   "metadata": {},
   "source": [
    "# Git/Gitflow Diagnostic Test\n",
    "\n",
    "This is the anwser for the diagnostic test of IIC2154 course."
   ]
  },
  {
   "cell_type": "code",
   "execution_count": null,
   "id": "4e568b4e",
   "metadata": {},
   "outputs": [],
   "source": [
    "# Main programme\n",
    "\n",
    "def execute_test():\n",
    "    pass\n",
    "\n",
    "if __name__ == \"__main__\":\n",
    "    execute_test()"
   ]
  }
 ],
 "metadata": {
  "kernelspec": {
   "display_name": "Python 3 (ipykernel)",
   "language": "python",
   "name": "python3"
  },
  "language_info": {
   "codemirror_mode": {
    "name": "ipython",
    "version": 3
   },
   "file_extension": ".py",
   "mimetype": "text/x-python",
   "name": "python",
   "nbconvert_exporter": "python",
   "pygments_lexer": "ipython3",
   "version": "3.8.10"
  }
 },
 "nbformat": 4,
 "nbformat_minor": 5
}
